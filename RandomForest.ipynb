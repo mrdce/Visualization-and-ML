{
  "nbformat": 4,
  "nbformat_minor": 0,
  "metadata": {
    "colab": {
      "name": "RandomForest.ipynb",
      "provenance": [],
      "collapsed_sections": [],
      "authorship_tag": "ABX9TyNvxg4CxosE6CawzNkT2H0U",
      "include_colab_link": true
    },
    "kernelspec": {
      "name": "python3",
      "display_name": "Python 3"
    },
    "language_info": {
      "name": "python"
    }
  },
  "cells": [
    {
      "cell_type": "markdown",
      "metadata": {
        "id": "view-in-github",
        "colab_type": "text"
      },
      "source": [
        "<a href=\"https://colab.research.google.com/github/mrdce/Visualization-and-ML/blob/main/RandomForest.ipynb\" target=\"_parent\"><img src=\"https://colab.research.google.com/assets/colab-badge.svg\" alt=\"Open In Colab\"/></a>"
      ]
    },
    {
      "cell_type": "markdown",
      "source": [
        "Переберите параметры с помощью GridSearchCV и обучите Random Forest. Передайте в GridSearchCV модель с указанием random_state"
      ],
      "metadata": {
        "id": "IYYFIWdtiiYh"
      }
    },
    {
      "cell_type": "code",
      "execution_count": null,
      "metadata": {
        "id": "tpGFRu0joKqd"
      },
      "outputs": [],
      "source": [
        "import pandas as pd\n",
        "import numpy as np\n",
        "from sklearn.model_selection import GridSearchCV\n",
        "from sklearn.ensemble import RandomForestClassifier"
      ]
    },
    {
      "cell_type": "code",
      "source": [
        "data = pd.read_csv('/gdrive/My Drive/data/training_mush.csv')"
      ],
      "metadata": {
        "id": "U6AsnGnBoQH7"
      },
      "execution_count": null,
      "outputs": []
    },
    {
      "cell_type": "code",
      "source": [
        "data.head()"
      ],
      "metadata": {
        "id": "a_cYa-rro6vG",
        "colab": {
          "base_uri": "https://localhost:8080/",
          "height": 331
        },
        "outputId": "96204eb7-f0aa-4ea3-87da-94cc2a7bff6c"
      },
      "execution_count": null,
      "outputs": [
        {
          "output_type": "execute_result",
          "data": {
            "text/plain": [
              "   cap-shape  cap-surface  cap-color  bruises  odor  gill-attachment  \\\n",
              "0          2            0          3        1     5                1   \n",
              "1          2            0          4        0     5                1   \n",
              "2          2            0          3        0     2                1   \n",
              "3          0            0          3        0     5                1   \n",
              "4          2            3          3        1     5                1   \n",
              "\n",
              "   gill-spacing  gill-size  gill-color  stalk-shape  ...  \\\n",
              "0             0          0           9            1  ...   \n",
              "1             0          1          10            0  ...   \n",
              "2             0          0           7            0  ...   \n",
              "3             1          0           2            0  ...   \n",
              "4             0          0          10            1  ...   \n",
              "\n",
              "   stalk-color-above-ring  stalk-color-below-ring  veil-type  veil-color  \\\n",
              "0                       3                       7          0           2   \n",
              "1                       7                       4          0           2   \n",
              "2                       0                       4          0           2   \n",
              "3                       7                       7          0           2   \n",
              "4                       3                       6          0           2   \n",
              "\n",
              "   ring-number  ring-type  spore-print-color  population  habitat  class  \n",
              "0            1          4                  3           5        0      0  \n",
              "1            1          0                  7           4        0      1  \n",
              "2            1          2                  1           5        1      1  \n",
              "3            2          4                  7           3        1      0  \n",
              "4            1          4                  2           5        0      0  \n",
              "\n",
              "[5 rows x 23 columns]"
            ],
            "text/html": [
              "\n",
              "  <div id=\"df-45216511-3a6d-45e9-8db4-100f1018de2e\">\n",
              "    <div class=\"colab-df-container\">\n",
              "      <div>\n",
              "<style scoped>\n",
              "    .dataframe tbody tr th:only-of-type {\n",
              "        vertical-align: middle;\n",
              "    }\n",
              "\n",
              "    .dataframe tbody tr th {\n",
              "        vertical-align: top;\n",
              "    }\n",
              "\n",
              "    .dataframe thead th {\n",
              "        text-align: right;\n",
              "    }\n",
              "</style>\n",
              "<table border=\"1\" class=\"dataframe\">\n",
              "  <thead>\n",
              "    <tr style=\"text-align: right;\">\n",
              "      <th></th>\n",
              "      <th>cap-shape</th>\n",
              "      <th>cap-surface</th>\n",
              "      <th>cap-color</th>\n",
              "      <th>bruises</th>\n",
              "      <th>odor</th>\n",
              "      <th>gill-attachment</th>\n",
              "      <th>gill-spacing</th>\n",
              "      <th>gill-size</th>\n",
              "      <th>gill-color</th>\n",
              "      <th>stalk-shape</th>\n",
              "      <th>...</th>\n",
              "      <th>stalk-color-above-ring</th>\n",
              "      <th>stalk-color-below-ring</th>\n",
              "      <th>veil-type</th>\n",
              "      <th>veil-color</th>\n",
              "      <th>ring-number</th>\n",
              "      <th>ring-type</th>\n",
              "      <th>spore-print-color</th>\n",
              "      <th>population</th>\n",
              "      <th>habitat</th>\n",
              "      <th>class</th>\n",
              "    </tr>\n",
              "  </thead>\n",
              "  <tbody>\n",
              "    <tr>\n",
              "      <th>0</th>\n",
              "      <td>2</td>\n",
              "      <td>0</td>\n",
              "      <td>3</td>\n",
              "      <td>1</td>\n",
              "      <td>5</td>\n",
              "      <td>1</td>\n",
              "      <td>0</td>\n",
              "      <td>0</td>\n",
              "      <td>9</td>\n",
              "      <td>1</td>\n",
              "      <td>...</td>\n",
              "      <td>3</td>\n",
              "      <td>7</td>\n",
              "      <td>0</td>\n",
              "      <td>2</td>\n",
              "      <td>1</td>\n",
              "      <td>4</td>\n",
              "      <td>3</td>\n",
              "      <td>5</td>\n",
              "      <td>0</td>\n",
              "      <td>0</td>\n",
              "    </tr>\n",
              "    <tr>\n",
              "      <th>1</th>\n",
              "      <td>2</td>\n",
              "      <td>0</td>\n",
              "      <td>4</td>\n",
              "      <td>0</td>\n",
              "      <td>5</td>\n",
              "      <td>1</td>\n",
              "      <td>0</td>\n",
              "      <td>1</td>\n",
              "      <td>10</td>\n",
              "      <td>0</td>\n",
              "      <td>...</td>\n",
              "      <td>7</td>\n",
              "      <td>4</td>\n",
              "      <td>0</td>\n",
              "      <td>2</td>\n",
              "      <td>1</td>\n",
              "      <td>0</td>\n",
              "      <td>7</td>\n",
              "      <td>4</td>\n",
              "      <td>0</td>\n",
              "      <td>1</td>\n",
              "    </tr>\n",
              "    <tr>\n",
              "      <th>2</th>\n",
              "      <td>2</td>\n",
              "      <td>0</td>\n",
              "      <td>3</td>\n",
              "      <td>0</td>\n",
              "      <td>2</td>\n",
              "      <td>1</td>\n",
              "      <td>0</td>\n",
              "      <td>0</td>\n",
              "      <td>7</td>\n",
              "      <td>0</td>\n",
              "      <td>...</td>\n",
              "      <td>0</td>\n",
              "      <td>4</td>\n",
              "      <td>0</td>\n",
              "      <td>2</td>\n",
              "      <td>1</td>\n",
              "      <td>2</td>\n",
              "      <td>1</td>\n",
              "      <td>5</td>\n",
              "      <td>1</td>\n",
              "      <td>1</td>\n",
              "    </tr>\n",
              "    <tr>\n",
              "      <th>3</th>\n",
              "      <td>0</td>\n",
              "      <td>0</td>\n",
              "      <td>3</td>\n",
              "      <td>0</td>\n",
              "      <td>5</td>\n",
              "      <td>1</td>\n",
              "      <td>1</td>\n",
              "      <td>0</td>\n",
              "      <td>2</td>\n",
              "      <td>0</td>\n",
              "      <td>...</td>\n",
              "      <td>7</td>\n",
              "      <td>7</td>\n",
              "      <td>0</td>\n",
              "      <td>2</td>\n",
              "      <td>2</td>\n",
              "      <td>4</td>\n",
              "      <td>7</td>\n",
              "      <td>3</td>\n",
              "      <td>1</td>\n",
              "      <td>0</td>\n",
              "    </tr>\n",
              "    <tr>\n",
              "      <th>4</th>\n",
              "      <td>2</td>\n",
              "      <td>3</td>\n",
              "      <td>3</td>\n",
              "      <td>1</td>\n",
              "      <td>5</td>\n",
              "      <td>1</td>\n",
              "      <td>0</td>\n",
              "      <td>0</td>\n",
              "      <td>10</td>\n",
              "      <td>1</td>\n",
              "      <td>...</td>\n",
              "      <td>3</td>\n",
              "      <td>6</td>\n",
              "      <td>0</td>\n",
              "      <td>2</td>\n",
              "      <td>1</td>\n",
              "      <td>4</td>\n",
              "      <td>2</td>\n",
              "      <td>5</td>\n",
              "      <td>0</td>\n",
              "      <td>0</td>\n",
              "    </tr>\n",
              "  </tbody>\n",
              "</table>\n",
              "<p>5 rows × 23 columns</p>\n",
              "</div>\n",
              "      <button class=\"colab-df-convert\" onclick=\"convertToInteractive('df-45216511-3a6d-45e9-8db4-100f1018de2e')\"\n",
              "              title=\"Convert this dataframe to an interactive table.\"\n",
              "              style=\"display:none;\">\n",
              "        \n",
              "  <svg xmlns=\"http://www.w3.org/2000/svg\" height=\"24px\"viewBox=\"0 0 24 24\"\n",
              "       width=\"24px\">\n",
              "    <path d=\"M0 0h24v24H0V0z\" fill=\"none\"/>\n",
              "    <path d=\"M18.56 5.44l.94 2.06.94-2.06 2.06-.94-2.06-.94-.94-2.06-.94 2.06-2.06.94zm-11 1L8.5 8.5l.94-2.06 2.06-.94-2.06-.94L8.5 2.5l-.94 2.06-2.06.94zm10 10l.94 2.06.94-2.06 2.06-.94-2.06-.94-.94-2.06-.94 2.06-2.06.94z\"/><path d=\"M17.41 7.96l-1.37-1.37c-.4-.4-.92-.59-1.43-.59-.52 0-1.04.2-1.43.59L10.3 9.45l-7.72 7.72c-.78.78-.78 2.05 0 2.83L4 21.41c.39.39.9.59 1.41.59.51 0 1.02-.2 1.41-.59l7.78-7.78 2.81-2.81c.8-.78.8-2.07 0-2.86zM5.41 20L4 18.59l7.72-7.72 1.47 1.35L5.41 20z\"/>\n",
              "  </svg>\n",
              "      </button>\n",
              "      \n",
              "  <style>\n",
              "    .colab-df-container {\n",
              "      display:flex;\n",
              "      flex-wrap:wrap;\n",
              "      gap: 12px;\n",
              "    }\n",
              "\n",
              "    .colab-df-convert {\n",
              "      background-color: #E8F0FE;\n",
              "      border: none;\n",
              "      border-radius: 50%;\n",
              "      cursor: pointer;\n",
              "      display: none;\n",
              "      fill: #1967D2;\n",
              "      height: 32px;\n",
              "      padding: 0 0 0 0;\n",
              "      width: 32px;\n",
              "    }\n",
              "\n",
              "    .colab-df-convert:hover {\n",
              "      background-color: #E2EBFA;\n",
              "      box-shadow: 0px 1px 2px rgba(60, 64, 67, 0.3), 0px 1px 3px 1px rgba(60, 64, 67, 0.15);\n",
              "      fill: #174EA6;\n",
              "    }\n",
              "\n",
              "    [theme=dark] .colab-df-convert {\n",
              "      background-color: #3B4455;\n",
              "      fill: #D2E3FC;\n",
              "    }\n",
              "\n",
              "    [theme=dark] .colab-df-convert:hover {\n",
              "      background-color: #434B5C;\n",
              "      box-shadow: 0px 1px 3px 1px rgba(0, 0, 0, 0.15);\n",
              "      filter: drop-shadow(0px 1px 2px rgba(0, 0, 0, 0.3));\n",
              "      fill: #FFFFFF;\n",
              "    }\n",
              "  </style>\n",
              "\n",
              "      <script>\n",
              "        const buttonEl =\n",
              "          document.querySelector('#df-45216511-3a6d-45e9-8db4-100f1018de2e button.colab-df-convert');\n",
              "        buttonEl.style.display =\n",
              "          google.colab.kernel.accessAllowed ? 'block' : 'none';\n",
              "\n",
              "        async function convertToInteractive(key) {\n",
              "          const element = document.querySelector('#df-45216511-3a6d-45e9-8db4-100f1018de2e');\n",
              "          const dataTable =\n",
              "            await google.colab.kernel.invokeFunction('convertToInteractive',\n",
              "                                                     [key], {});\n",
              "          if (!dataTable) return;\n",
              "\n",
              "          const docLinkHtml = 'Like what you see? Visit the ' +\n",
              "            '<a target=\"_blank\" href=https://colab.research.google.com/notebooks/data_table.ipynb>data table notebook</a>'\n",
              "            + ' to learn more about interactive tables.';\n",
              "          element.innerHTML = '';\n",
              "          dataTable['output_type'] = 'display_data';\n",
              "          await google.colab.output.renderOutput(dataTable, element);\n",
              "          const docLink = document.createElement('div');\n",
              "          docLink.innerHTML = docLinkHtml;\n",
              "          element.appendChild(docLink);\n",
              "        }\n",
              "      </script>\n",
              "    </div>\n",
              "  </div>\n",
              "  "
            ]
          },
          "metadata": {},
          "execution_count": 3
        }
      ]
    },
    {
      "cell_type": "code",
      "source": [
        "X, y = data.iloc[:,:-1], data.iloc[:,-1]"
      ],
      "metadata": {
        "id": "r-fiJ1kIFQR5"
      },
      "execution_count": null,
      "outputs": []
    },
    {
      "cell_type": "code",
      "source": [
        "clf = RandomForestClassifier(random_state=0)"
      ],
      "metadata": {
        "id": "RiFhfjxxiHox"
      },
      "execution_count": null,
      "outputs": []
    },
    {
      "cell_type": "markdown",
      "source": [
        "Параметры для выбора -\n",
        "\n",
        "n_estimators: от 10 до 50 с шагом 10 \\\n",
        "max_depth: от 1 до 12 с шагом 2\\\n",
        "min_samples_leaf: от 1 до 7\\\n",
        "min_samples_split: от 2 до 9 с шагом 2\\\n",
        "\n",
        "Укажите cv=3. Для ускорения расчётов в GridSearchCV можно указать n_jobs=-1, чтобы использовать все процессоры."
      ],
      "metadata": {
        "id": "rW6QIIewip8h"
      }
    },
    {
      "cell_type": "code",
      "source": [
        "params = {'n_estimators': range(10, 51, 10),\n",
        "          'max_depth': range(1, 12, 2),\n",
        "          'min_samples_split': range(2, 9, 2),\n",
        "          'min_samples_leaf': range(1, 7)}\n",
        "search = GridSearchCV(clf, params, cv=3, n_jobs=-1)"
      ],
      "metadata": {
        "id": "rgGUCaS-g_Em"
      },
      "execution_count": null,
      "outputs": []
    },
    {
      "cell_type": "code",
      "source": [
        "search.fit(X, y)"
      ],
      "metadata": {
        "colab": {
          "base_uri": "https://localhost:8080/"
        },
        "id": "5HWFTiG7hBXI",
        "outputId": "4e13891d-cdad-4408-d48f-3d69e5d7fa3a"
      },
      "execution_count": null,
      "outputs": [
        {
          "output_type": "execute_result",
          "data": {
            "text/plain": [
              "GridSearchCV(cv=3, estimator=RandomForestClassifier(random_state=0), n_jobs=-1,\n",
              "             param_grid={'max_depth': range(1, 12, 2),\n",
              "                         'min_samples_leaf': range(1, 7),\n",
              "                         'min_samples_split': range(2, 9, 2),\n",
              "                         'n_estimators': range(10, 51, 10)})"
            ]
          },
          "metadata": {},
          "execution_count": 7
        }
      ]
    },
    {
      "cell_type": "markdown",
      "source": [
        "Какие параметры Random Forest были отобраны как наилучшие для решения на этих данных?"
      ],
      "metadata": {
        "id": "_TW3_vg1k98Q"
      }
    },
    {
      "cell_type": "code",
      "source": [
        "best_tree = search.best_params_"
      ],
      "metadata": {
        "id": "YM0nQB0UjO3H"
      },
      "execution_count": null,
      "outputs": []
    },
    {
      "cell_type": "code",
      "source": [
        "best_tree"
      ],
      "metadata": {
        "colab": {
          "base_uri": "https://localhost:8080/"
        },
        "id": "dZkGm6XikPsI",
        "outputId": "9fa1f0cc-1275-4093-d016-da5e45b81df1"
      },
      "execution_count": null,
      "outputs": [
        {
          "output_type": "execute_result",
          "data": {
            "text/plain": [
              "{'max_depth': 9,\n",
              " 'min_samples_leaf': 1,\n",
              " 'min_samples_split': 2,\n",
              " 'n_estimators': 10}"
            ]
          },
          "metadata": {},
          "execution_count": 9
        }
      ]
    },
    {
      "cell_type": "markdown",
      "source": [
        "Важность фичей для классификатора?"
      ],
      "metadata": {
        "id": "5ZIIAfGLlPCw"
      }
    },
    {
      "cell_type": "code",
      "source": [
        "clf = RandomForestClassifier(random_state=0, max_depth=9, min_samples_leaf=1, min_samples_split=2, n_estimators=10)"
      ],
      "metadata": {
        "id": "NKOPfZuQlN3s"
      },
      "execution_count": null,
      "outputs": []
    },
    {
      "cell_type": "code",
      "source": [
        "clf.fit(X, y)"
      ],
      "metadata": {
        "colab": {
          "base_uri": "https://localhost:8080/"
        },
        "id": "WBeW1DCjlcws",
        "outputId": "bf877486-8e00-4fa2-875e-284861e735b8"
      },
      "execution_count": null,
      "outputs": [
        {
          "output_type": "execute_result",
          "data": {
            "text/plain": [
              "RandomForestClassifier(max_depth=9, n_estimators=10, random_state=0)"
            ]
          },
          "metadata": {},
          "execution_count": 11
        }
      ]
    },
    {
      "cell_type": "code",
      "source": [
        "for i in clf.feature_importances_:\n",
        "  print(i)"
      ],
      "metadata": {
        "colab": {
          "base_uri": "https://localhost:8080/"
        },
        "id": "PsX0aGoDy7Mi",
        "outputId": "236bfb4b-992f-442f-9970-90687c37685f"
      },
      "execution_count": null,
      "outputs": [
        {
          "output_type": "stream",
          "name": "stdout",
          "text": [
            "0.00257742212862182\n",
            "0.0031295679743042135\n",
            "0.021772980463149925\n",
            "0.07010932739225456\n",
            "0.18837641111214493\n",
            "0.0\n",
            "0.0808401981015132\n",
            "0.06846075644129328\n",
            "0.10386113634342178\n",
            "0.0075626188138044285\n",
            "0.10379322056153273\n",
            "0.03180155160638098\n",
            "0.048295938206773255\n",
            "0.017689316743963592\n",
            "0.006253345808705759\n",
            "0.0\n",
            "0.010881201035561587\n",
            "0.01391009511831237\n",
            "0.07072611610317477\n",
            "0.08356418562039068\n",
            "0.04378342634483357\n",
            "0.02261118407986276\n"
          ]
        }
      ]
    },
    {
      "cell_type": "code",
      "source": [
        "counter = 0\n",
        "tuple_list = []\n",
        "for i in clf.feature_importances_:\n",
        "  tuple_list.append((X.columns[counter], i))\n",
        "  counter += 1"
      ],
      "metadata": {
        "id": "zJOZdsNDw8YC"
      },
      "execution_count": null,
      "outputs": []
    },
    {
      "cell_type": "code",
      "source": [
        "sorted(tuple_list, key=lambda x: x[1])"
      ],
      "metadata": {
        "colab": {
          "base_uri": "https://localhost:8080/"
        },
        "id": "lE6RR37uzucV",
        "outputId": "4cac8501-a642-4510-a819-ba295002ccf6"
      },
      "execution_count": null,
      "outputs": [
        {
          "output_type": "execute_result",
          "data": {
            "text/plain": [
              "[('gill-attachment', 0.0),\n",
              " ('veil-type', 0.0),\n",
              " ('cap-shape', 0.00257742212862182),\n",
              " ('cap-surface', 0.0031295679743042135),\n",
              " ('stalk-color-below-ring', 0.006253345808705759),\n",
              " ('stalk-shape', 0.0075626188138044285),\n",
              " ('veil-color', 0.010881201035561587),\n",
              " ('ring-number', 0.01391009511831237),\n",
              " ('stalk-color-above-ring', 0.017689316743963592),\n",
              " ('cap-color', 0.021772980463149925),\n",
              " ('habitat', 0.02261118407986276),\n",
              " ('stalk-surface-above-ring', 0.03180155160638098),\n",
              " ('population', 0.04378342634483357),\n",
              " ('stalk-surface-below-ring', 0.048295938206773255),\n",
              " ('gill-size', 0.06846075644129328),\n",
              " ('bruises', 0.07010932739225456),\n",
              " ('ring-type', 0.07072611610317477),\n",
              " ('gill-spacing', 0.0808401981015132),\n",
              " ('spore-print-color', 0.08356418562039068),\n",
              " ('stalk-root', 0.10379322056153273),\n",
              " ('gill-color', 0.10386113634342178),\n",
              " ('odor', 0.18837641111214493)]"
            ]
          },
          "metadata": {},
          "execution_count": 14
        }
      ]
    },
    {
      "cell_type": "markdown",
      "source": [
        "Теперь у нас есть классификатор, определяющий какие грибы съедобные, а какие нет, испробуем его! Предскажите съедобность этих данных грибов и напишите в ответ число несъедобных грибов (класс равен 1)."
      ],
      "metadata": {
        "id": "E6oc8zeYuI8G"
      }
    },
    {
      "cell_type": "code",
      "source": [
        "X_test = pd.read_csv(\"/gdrive/My Drive/data/testing_mush.csv\")"
      ],
      "metadata": {
        "id": "mCJ9S3Jo0HPp"
      },
      "execution_count": null,
      "outputs": []
    },
    {
      "cell_type": "code",
      "source": [
        "predicted = clf.predict(X_test)"
      ],
      "metadata": {
        "id": "XwfSWsexuufm"
      },
      "execution_count": null,
      "outputs": []
    },
    {
      "cell_type": "code",
      "source": [
        "predicted.sum()"
      ],
      "metadata": {
        "colab": {
          "base_uri": "https://localhost:8080/"
        },
        "id": "cJF8AE0Vvpal",
        "outputId": "eb36930b-eff7-47bd-f360-ddb868c16399"
      },
      "execution_count": null,
      "outputs": [
        {
          "output_type": "execute_result",
          "data": {
            "text/plain": [
              "976"
            ]
          },
          "metadata": {},
          "execution_count": 22
        }
      ]
    },
    {
      "cell_type": "markdown",
      "source": [
        "Создайте confusion matrix по предсказаниям, полученным вами в прошлом уроке и правильным ответам."
      ],
      "metadata": {
        "id": "NkZPyfGExHQ2"
      }
    },
    {
      "cell_type": "code",
      "source": [
        "from google.colab import drive\n",
        "drive.mount('/gdrive' )\n",
        "y_true = pd.read_csv(\"/gdrive/My Drive/data/testing_y_mush.csv\")"
      ],
      "metadata": {
        "colab": {
          "base_uri": "https://localhost:8080/"
        },
        "id": "NGpLuEv_x79P",
        "outputId": "5f155a78-fea0-4da6-f117-5a9ae933ba95"
      },
      "execution_count": null,
      "outputs": [
        {
          "output_type": "stream",
          "name": "stdout",
          "text": [
            "Mounted at /gdrive\n"
          ]
        }
      ]
    },
    {
      "cell_type": "code",
      "source": [
        "import seaborn as sns\n",
        "from sklearn.metrics import confusion_matrix\n",
        "\n",
        "sns.heatmap(confusion_matrix(y_true, predicted), annot=True, cmap=\"Blues\")"
      ],
      "metadata": {
        "colab": {
          "base_uri": "https://localhost:8080/",
          "height": 283
        },
        "id": "7ud8puGVvt4B",
        "outputId": "71f2ceb2-f80b-4622-f430-6a0b801f4bce"
      },
      "execution_count": null,
      "outputs": [
        {
          "output_type": "execute_result",
          "data": {
            "text/plain": [
              "<matplotlib.axes._subplots.AxesSubplot at 0x7f8c1579f490>"
            ]
          },
          "metadata": {},
          "execution_count": 30
        },
        {
          "output_type": "display_data",
          "data": {
            "text/plain": [
              "<Figure size 432x288 with 2 Axes>"
            ],
            "image/png": "[encoded data removed]"
          },
          "metadata": {
            "needs_background": "light"
          }
        }
      ]
    }
  ]
}